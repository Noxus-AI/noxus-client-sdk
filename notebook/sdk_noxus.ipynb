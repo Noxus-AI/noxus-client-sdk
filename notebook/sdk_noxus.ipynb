{
 "cells": [
  {
   "cell_type": "markdown",
   "metadata": {},
   "source": [
    "# Noxus Client SDK - README Follow Through"
   ]
  },
  {
   "cell_type": "code",
   "execution_count": null,
   "metadata": {},
   "outputs": [],
   "source": [
    "%load_ext autoreload\n",
    "%autoreload 2"
   ]
  },
  {
   "cell_type": "markdown",
   "metadata": {},
   "source": [
    "### Client Initialization"
   ]
  },
  {
   "cell_type": "code",
   "execution_count": null,
   "metadata": {},
   "outputs": [],
   "source": [
    "from noxus_sdk.client import Client\n",
    "\n",
    "# Initialize the client with your API key\n",
    "client = Client(api_key=\"your_api_key_here\")\n",
    "\n",
    "#In case you are running a local backend don't forget to provide it\n",
    "client = Client(api_key=\"your_api_key_here\", base_url=\"your_noxus_backend_url_here\")"
   ]
  },
  {
   "cell_type": "markdown",
   "metadata": {},
   "source": [
    "### Quick Example"
   ]
  },
  {
   "cell_type": "code",
   "execution_count": null,
   "metadata": {},
   "outputs": [],
   "source": [
    "# List all workflows\n",
    "workflows = client.workflows.list()\n",
    "for workflow in workflows:\n",
    "    print(workflow.name)\n",
    "\n",
    "# Create a new conversation\n",
    "from noxus_sdk.resources.conversations import ConversationSettings\n",
    "\n",
    "settings = ConversationSettings(\n",
    "    model_selection=[\"gpt-4o-mini\"],\n",
    "    temperature=0.7,\n",
    "    max_tokens=150,\n",
    "    tools=[],\n",
    "    extra_instructions=\"Please answer in portuguese.\"\n",
    ")\n",
    "\n",
    "conversation = client.conversations.create(name=\"New Conversation\", settings=settings)\n",
    "print(conversation.id)"
   ]
  },
  {
   "cell_type": "markdown",
   "metadata": {},
   "source": [
    "## Workflows"
   ]
  },
  {
   "cell_type": "markdown",
   "metadata": {},
   "source": [
    "### Building Workflows"
   ]
  },
  {
   "cell_type": "code",
   "execution_count": null,
   "metadata": {},
   "outputs": [],
   "source": [
    "from noxus_sdk.workflows import WorkflowDefinition\n",
    "\n",
    "# Create a new workflow definition\n",
    "workflow_def = WorkflowDefinition(name=\"Simple Workflow\")\n",
    "\n",
    "# Add nodes to the workflow\n",
    "input_node = workflow_def.node(\"InputNode\").config(label=\"Fixed Input\", fixed_value=True, value=\"Write a joke.\", type=\"str\")\n",
    "ai_node = workflow_def.node(\"TextGenerationNode\").config(\n",
    "    template=\"Please insert a fact about an animal after fulfilling the following request: ((Input 1))\",\n",
    "    model=[\"gpt-4o-mini\"],\n",
    ")\n",
    "output_node = workflow_def.node(\"OutputNode\")\n",
    "\n",
    "# Connect nodes together (from output to input)\n",
    "workflow_def.link(input_node.output(), ai_node.input(\"variables\", \"Input 1\"))\n",
    "workflow_def.link(ai_node.output(), output_node.input())\n",
    "\n",
    "# Save the workflow to Noxus\n",
    "simple_workflow = client.workflows.save(workflow_def)\n",
    "print(f\"Created workflow with ID: {simple_workflow.id}\")"
   ]
  },
  {
   "cell_type": "markdown",
   "metadata": {},
   "source": [
    "More complex workflow:"
   ]
  },
  {
   "cell_type": "code",
   "execution_count": null,
   "metadata": {},
   "outputs": [],
   "source": [
    "from noxus_sdk.workflows import WorkflowDefinition\n",
    "\n",
    "# Create a workflow for summarizing and analyzing text\n",
    "workflow_def = WorkflowDefinition(name=\"Complex Workflow\")\n",
    "\n",
    "# Add nodes in sequence\n",
    "input_node = workflow_def.node(\"InputNode\")\n",
    "text_generator = workflow_def.node(\"TextGenerationNode\").config(template=\"Write an essay on ((Input 1)).\")\n",
    "summarizer = workflow_def.node(\"SummaryNode\").config(summary_format=\"Concise\", summary_topic=\"Summarize the essay in around 300 words.\")\n",
    "compose = workflow_def.node(\"ComposeTextNode\").config(template=\"Summary: \\n\\n ((Input 1)) \\n\\n Extended text: \\n ((Input 2))\")\n",
    "output = workflow_def.node(\"OutputNode\")\n",
    "\n",
    "# Create a branched workflow with multiple paths\n",
    "workflow_def.link(input_node.output(), text_generator.input(\"variables\", key=\"Input 1\"))\n",
    "workflow_def.link(text_generator.output(), summarizer.input())\n",
    "workflow_def.link(summarizer.output(), compose.input(\"variables\", key=\"Input 1\"))\n",
    "workflow_def.link(text_generator.output(), compose.input(\"variables\", key=\"Input 2\"))\n",
    "workflow_def.link(compose.output(), output.input())\n",
    "\n",
    "# Save the workflow\n",
    "complex_workflow = client.workflows.save(workflow_def)\n",
    "print(f\"Created workflow with ID: {complex_workflow.id}\")"
   ]
  },
  {
   "cell_type": "markdown",
   "metadata": {},
   "source": [
    "### Listing Workflows"
   ]
  },
  {
   "cell_type": "code",
   "execution_count": null,
   "metadata": {},
   "outputs": [],
   "source": [
    "# List all workflows\n",
    "workflows = client.workflows.list(page=1, page_size=10)\n",
    "for workflow in workflows:\n",
    "    print(f\"Workflow ID: {workflow.id}, Name: {workflow.name}\")\n",
    "\n",
    "# Get a specific workflow\n",
    "#workflow = client.workflows.get(workflow_id=\"your_workfflow_id\")\n",
    "#print(f\"Specific Workflow ID: {workflow.id}, Name: {workflow.name}\")"
   ]
  },
  {
   "cell_type": "markdown",
   "metadata": {},
   "source": [
    "### Updating Workflows"
   ]
  },
  {
   "cell_type": "code",
   "execution_count": null,
   "metadata": {},
   "outputs": [],
   "source": [
    "#We fetch the workflow to update\n",
    "workflow_to_update = client.workflows.get(workflow_id=complex_workflow.id)\n",
    "\n",
    "# Update existing workflow name\n",
    "workflow_to_update.name = \"Essay Writer\"\n",
    "\n",
    "# Let's add an extra input with the author of the workflow\n",
    "author_input = workflow_to_update.node(\"InputNode\").config(label=\"Author\", fixed_value=True, value=\"John Peter Table\", type=\"str\")\n",
    "# We update the compose node config and connection (notice how we use the label)\n",
    "compose = [w for w in workflow_to_update.nodes if w.type == \"ComposeTextNode\"][0]\n",
    "compose.config(\n",
    "    template=\"Summary: \\n\\n ((Input 1)) \\n\\n Extended text: \\n ((Input 2)) \\n\\n Author: ((Author))\",\n",
    ")\n",
    "workflow_to_update.link(\n",
    "    author_input.output(\"output\"), compose.input(\"variables\", \"Author\")\n",
    ")\n",
    "\n",
    "# Update the workflow\n",
    "updated_workflow = client.workflows.update(workflow_to_update.id, workflow_to_update)\n",
    "print(f\"Updated workflow {updated_workflow.name}\")"
   ]
  },
  {
   "cell_type": "markdown",
   "metadata": {},
   "source": [
    "### Run Workflow\n",
    "\n",
    "Let's use the work"
   ]
  },
  {
   "cell_type": "code",
   "execution_count": null,
   "metadata": {},
   "outputs": [],
   "source": [
    "workflow = client.workflows.get(workflow_id=simple_workflow.id)\n",
    "\n",
    "# Run a workflow with no inputs or fixed inputs\n",
    "run = workflow.run(body={})\n",
    "\n",
    "# Wait for the workflow to complete\n",
    "result = run.wait(interval=5)\n",
    "print(f\"Run status: {result.status}\")\n",
    "print(f\"Output: {result.output}\")"
   ]
  },
  {
   "cell_type": "code",
   "execution_count": null,
   "metadata": {},
   "outputs": [],
   "source": [
    "# Let's override the workflow\n",
    "run = simple_workflow.run(body={\"Fixed Input\": \"Write a poem\"})\n",
    "\n",
    "# Wait for the workflow to complete\n",
    "result = run.wait(interval=5)\n",
    "print(f\"Run status: {result.status}\")\n",
    "print(f\"Output: {result.output}\")"
   ]
  },
  {
   "cell_type": "markdown",
   "metadata": {},
   "source": [
    "### Listing runs"
   ]
  },
  {
   "cell_type": "code",
   "execution_count": null,
   "metadata": {},
   "outputs": [],
   "source": [
    "# Get a list of workflow runs\n",
    "runs = client.runs.list(workflow_id=simple_workflow.id, page=1, page_size=10)\n",
    "for run in runs:\n",
    "    print(f\"Run ID: {run.id}\")"
   ]
  },
  {
   "cell_type": "markdown",
   "metadata": {},
   "source": [
    "# Knowledge Bases"
   ]
  },
  {
   "cell_type": "markdown",
   "metadata": {},
   "source": [
    "### Creating a Knowledge Base"
   ]
  },
  {
   "cell_type": "code",
   "execution_count": null,
   "metadata": {},
   "outputs": [],
   "source": [
    "from noxus_sdk.resources.knowledge_bases import (\n",
    "    KnowledgeBaseSettings,\n",
    "    KnowledgeBaseIngestion,\n",
    "    KnowledgeBaseRetrieval,\n",
    "    KnowledgeBaseHybridSettings,\n",
    ")\n",
    "\n",
    "# Define knowledge base components\n",
    "settings = KnowledgeBaseSettings(\n",
    "    ingestion=KnowledgeBaseIngestion(\n",
    "        batch_size=10,\n",
    "        default_chunk_size=1000,\n",
    "        default_chunk_overlap=200,\n",
    "        enrich_chunks_mode=\"contextual\",\n",
    "        enrich_pre_made_qa=False,\n",
    "    ),\n",
    "    retrieval=KnowledgeBaseRetrieval(\n",
    "        type=\"hybrid_reranking\",\n",
    "        hybrid_settings={\"fts_weight\": 0.3},\n",
    "        reranker_settings={}\n",
    "    ),\n",
    ")\n",
    "\n",
    "# Create a new knowledge base\n",
    "knowledge_base = client.knowledge_bases.create(\n",
    "    name=\"Example Knowledge Base\",\n",
    "    description=\"A sample knowledge base\",\n",
    "    document_types=[\"pdf\", \"txt\"],\n",
    "    settings_=settings\n",
    ")\n",
    "print(f\"Created Knowledge Base ID: {knowledge_base.id}\")"
   ]
  },
  {
   "cell_type": "markdown",
   "metadata": {},
   "source": [
    "### Listing Knowledge Bases"
   ]
  },
  {
   "cell_type": "code",
   "execution_count": null,
   "metadata": {},
   "outputs": [],
   "source": [
    "# List all knowledge bases\n",
    "knowledge_bases = client.knowledge_bases.list(page=1, page_size=10)\n",
    "for kb in knowledge_bases:\n",
    "    print(f\"Knowledge Base ID: {kb.id}, Name: {kb.name}\")\n",
    "\n",
    "# Get a specific knowledge base\n",
    "#kb = client.knowledge_bases.get(knowledge_base_id=\"your_knowledge_base_id\")"
   ]
  },
  {
   "cell_type": "markdown",
   "metadata": {},
   "source": [
    "### File Operations in Knowledge Base"
   ]
  },
  {
   "cell_type": "code",
   "execution_count": null,
   "metadata": {},
   "outputs": [],
   "source": [
    "from noxus_sdk.resources.knowledge_bases import (\n",
    "    UpdateDocument,\n",
    "    DocumentStatus,\n",
    "    RunStatus,\n",
    "    File,\n",
    "    Source,\n",
    "    DocumentSource,\n",
    "    DocumentSourceConfig,\n",
    "    UpdateDocument\n",
    ")\n",
    "\n",
    "kb = client.knowledge_bases.get(knowledge_base_id=knowledge_base.id)\n",
    "\n",
    "#Add a file\n",
    "run_ids = kb.upload_document(\n",
    "    files=[\"notebook_kb_test.txt\"],\n",
    "    prefix=\"/files\" #Where it will be stored on the KB\n",
    ")\n",
    "print(f\"Upload started with run IDs: {run_ids}\")\n",
    "\n",
    "# We can also monitor runs\n",
    "print(\"\\n=== Checking Runs ===\")\n",
    "runs = kb.get_runs(status=\"running\")\n",
    "print(f\"Active runs: {len(runs)}\")"
   ]
  },
  {
   "cell_type": "code",
   "execution_count": null,
   "metadata": {},
   "outputs": [],
   "source": [
    "# Lets wait for a bit for ingestion to finish\n",
    "import time\n",
    "time.sleep(15)"
   ]
  },
  {
   "cell_type": "code",
   "execution_count": null,
   "metadata": {},
   "outputs": [],
   "source": [
    "# List documents\n",
    "print(\"\\n=== Listing Documents ===\")\n",
    "documents = kb.list_documents(status=\"trained\")\n",
    "for doc in documents:\n",
    "    print(f\"Document: {doc.name} (Status: {doc.status})\")\n",
    "\n",
    "# Get and update a document if any exist\n",
    "if documents:\n",
    "    doc = kb.get_document(documents[0].id)\n",
    "    print(f\"\\nGot document: {doc.name}\")\n",
    "\n",
    "    updated_doc = kb.update_document(\n",
    "        doc.id, \n",
    "        UpdateDocument(prefix=\"/updated/path\")\n",
    "    )\n",
    "    print(f\"Updated document prefix to: {updated_doc.prefix}\")\n",
    "\n",
    "# Refresh KB to see latest status\n",
    "kb.refresh()\n",
    "print(f\"\\nKB status: {kb.status}\")\n",
    "print(f\"Total documents: {kb.total_documents}\")\n",
    "print(f\"Trained documents: {kb.trained_documents}\")\n",
    "print(f\"Error documents: {kb.error_documents}\")\n",
    "\n",
    "# List all knowledge bases\n",
    "print(\"\\n=== All Knowledge Bases ===\")\n",
    "knowledge_bases = client.knowledge_bases.list(page=1, page_size=10)\n",
    "for kb in knowledge_bases:\n",
    "    print(f\"KB: {kb.name} (ID: {kb.id})\")\n",
    "\n",
    "# Cleanup\n",
    "print(\"\\n=== Cleanup ===\")\n",
    "if documents:\n",
    "    for doc in documents:\n",
    "        kb.delete_document(doc.id)\n",
    "        print(f\"Deleted document: {doc.name}\")\n",
    "\n",
    "success = kb.delete()\n",
    "print(f\"Knowledge base deletion: {'successful' if success else 'failed'}\")"
   ]
  },
  {
   "cell_type": "markdown",
   "metadata": {},
   "source": [
    "# Conversation"
   ]
  },
  {
   "cell_type": "markdown",
   "metadata": {},
   "source": [
    "### Creating a Conversation"
   ]
  },
  {
   "cell_type": "code",
   "execution_count": null,
   "metadata": {},
   "outputs": [],
   "source": [
    "from noxus_sdk.resources.conversations import (\n",
    "    ConversationSettings,\n",
    "    MessageRequest,\n",
    "    WebResearchTool,\n",
    ")\n",
    "\n",
    "# Create conversation tools\n",
    "web_research_tool = WebResearchTool(\n",
    "    enabled=True,\n",
    "    extra_instructions=\"Focus on recent and reliable sources.\"\n",
    ")\n",
    "\n",
    "# Define conversation settings\n",
    "settings = ConversationSettings(\n",
    "    model_selection=[\"gpt-4o-mini\"],\n",
    "    temperature=0.7,\n",
    "    max_tokens=150,\n",
    "    tools=[web_research_tool],\n",
    "    extra_instructions=\"Please be concise.\"\n",
    ")\n",
    "\n",
    "# Create a new conversation\n",
    "conversation = client.conversations.create(name=\"Example Conversation\", settings=settings)\n",
    "print(f\"Created Conversation ID: {conversation.id}\")"
   ]
  },
  {
   "cell_type": "markdown",
   "metadata": {},
   "source": [
    "### List Conversations"
   ]
  },
  {
   "cell_type": "code",
   "execution_count": null,
   "metadata": {},
   "outputs": [],
   "source": [
    "# List all conversations\n",
    "conversations = client.conversations.list(page=1, page_size=10)\n",
    "for conv in conversations:\n",
    "    print(f\"Conversation ID: {conv.id}, Name: {conv.name}\")\n",
    "\n",
    "# Get a specific conversation\n",
    "#conversation = client.conversations.get(conversation_id=\"conversation_id_here\")"
   ]
  },
  {
   "cell_type": "markdown",
   "metadata": {},
   "source": [
    "### Sending a Message\n",
    "\n",
    "Let's use the conversation from above"
   ]
  },
  {
   "cell_type": "code",
   "execution_count": null,
   "metadata": {},
   "outputs": [],
   "source": [
    "import base64\n",
    "from noxus_sdk.resources.conversations import MessageRequest, ConversationFile\n",
    "\n",
    "# Simple message without using any tools\n",
    "message = MessageRequest(content=\"How are you?\")\n",
    "response = conversation.add_message(message)\n",
    "print(f\"AI Response: {response.message_parts} \\n\\n\")\n",
    "\n",
    "# Message using web research tool\n",
    "web_research_message = MessageRequest(\n",
    "    content=\"What is the wordle word of yesterday?\",\n",
    "    tool=\"web_research\"\n",
    ")\n",
    "response = conversation.add_message(web_research_message)\n",
    "print(f\"Web Research Tool response: {response.message_parts} \\n\\n\")\n",
    "\n",
    "# Message with attached files\n",
    "file = ConversationFile(\n",
    "    name=\"test.txt\",\n",
    "    status=\"success\",\n",
    "    b64_content=base64.b64encode(b\"Hello, world!\").decode(\"utf-8\"),\n",
    ")\n",
    "message = MessageRequest(content=\"What does the file say?\", files=[file])\n",
    "response = conversation.add_message(message)\n",
    "print(f\"Message with file response: {response.message_parts} \\n\\n\")"
   ]
  },
  {
   "cell_type": "markdown",
   "metadata": {},
   "source": [
    "We can also get all messages in a conversation"
   ]
  },
  {
   "cell_type": "code",
   "execution_count": null,
   "metadata": {},
   "outputs": [],
   "source": [
    "# Get all messages in a conversation\n",
    "all_messages = conversation.get_messages()\n",
    "for msg in all_messages:\n",
    "    print(f\"Message ID: {msg.id}, Created: {msg.created_at}\")"
   ]
  },
  {
   "cell_type": "markdown",
   "metadata": {},
   "source": [
    "### Deleting a Conversation"
   ]
  },
  {
   "cell_type": "code",
   "execution_count": null,
   "metadata": {},
   "outputs": [],
   "source": [
    "# Delete a conversation\n",
    "# client.conversations.delete(conversation_id=\"conversation_id_here\")"
   ]
  },
  {
   "cell_type": "markdown",
   "metadata": {},
   "source": [
    "### Asynchronous Conversation Operations"
   ]
  },
  {
   "cell_type": "code",
   "execution_count": null,
   "metadata": {},
   "outputs": [],
   "source": [
    "import asyncio\n",
    "\n",
    "async def conversation_example():\n",
    "    # Create a conversation asynchronously\n",
    "    conversation = await client.conversations.acreate(name=\"Async Example\", settings=settings) # Using the settings from the KB section\n",
    "    \n",
    "    # Send a message and get response asynchronously\n",
    "    message = MessageRequest(content=\"How does quantum computing work?\")\n",
    "    response = await conversation.aadd_message(message)\n",
    "    \n",
    "    # Refresh the conversation to get latest state\n",
    "    updated_conversation = await conversation.arefresh()\n",
    "    \n",
    "    # Get all messages\n",
    "    messages = await updated_conversation.aget_messages()\n",
    "    return messages\n",
    "\n",
    "\n",
    "global messages  # Make 'messages' accessible outside the main function\n",
    "messages = await conversation_example()\n",
    "print(messages)\n"
   ]
  },
  {
   "cell_type": "markdown",
   "metadata": {},
   "source": [
    "### Conversation Tools\n",
    "\n",
    "Notice that you must provide a `workflow id` and a `knowledge base id` to use the respective tools. "
   ]
  },
  {
   "cell_type": "code",
   "execution_count": null,
   "metadata": {},
   "outputs": [],
   "source": [
    "from noxus_sdk.resources.conversations import (\n",
    "    WebResearchTool,\n",
    "    NoxusQaTool,\n",
    "    KnowledgeBaseSelectorTool,\n",
    "    KnowledgeBaseQaTool,\n",
    "    WorkflowTool\n",
    ")\n",
    "\n",
    "# Web research tool\n",
    "web_tool = WebResearchTool(\n",
    "    enabled=True,\n",
    "    extra_instructions=\"Focus on academic sources\"\n",
    ")\n",
    "\n",
    "# Noxus Q&A tool\n",
    "noxus_qa_tool = NoxusQaTool(\n",
    "    enabled=True,\n",
    "    extra_instructions=\"Explain Noxus features in simple terms\"\n",
    ")\n",
    "\n",
    "# Knowledge base selector tool\n",
    "kb_selector_tool = KnowledgeBaseSelectorTool(\n",
    "    enabled=True,\n",
    "    extra_instructions=\"Choose the most relevant knowledge base\"\n",
    ")\n",
    "\n",
    "# Knowledge base Q&A tool with specific KB\n",
    "kb_qa_tool = KnowledgeBaseQaTool(\n",
    "    enabled=True,\n",
    "    kb_id=\"knowledge_base_uuid_here\",\n",
    "    extra_instructions=\"Provide detailed answers from the knowledge base\"\n",
    ")\n",
    "\n",
    "# Workflow execution tool\n",
    "workflow_tool = WorkflowTool(\n",
    "    enabled=True,\n",
    "    workflow={\"id\": \"your_workflow_id\", \"name\": \"Workflow Name\", \"description\": \"Workflow Description\"},\n",
    "    name=\"Data Analysis Workflow\",\n",
    "    description=\"Run the data analysis workflow on provided input\"\n",
    ")\n",
    "\n",
    "# Create settings with all tools\n",
    "settings = ConversationSettings(\n",
    "    model_selection=[\"gpt-4o-mini\"],\n",
    "    temperature=0.7,\n",
    "    max_tokens=150,\n",
    "    tools=[web_tool, noxus_qa_tool, kb_selector_tool, kb_qa_tool, workflow_tool],\n",
    "    extra_instructions=\"Use the most appropriate tool for each query.\"\n",
    ")\n",
    "\n",
    "conversation = client.conversations.create(name=\"Tooljacked Conversation\", settings=settings)"
   ]
  },
  {
   "cell_type": "markdown",
   "metadata": {},
   "source": [
    "# Agents"
   ]
  },
  {
   "cell_type": "markdown",
   "metadata": {},
   "source": [
    "### Creating an Agent"
   ]
  },
  {
   "cell_type": "code",
   "execution_count": null,
   "metadata": {},
   "outputs": [],
   "source": [
    "from noxus_sdk.resources.conversations import WebResearchTool\n",
    "from noxus_sdk.resources.conversations import WorkflowTool\n",
    "from noxus_sdk.resources.conversations import ConversationSettings\n",
    "\n",
    "# Workflow execution tool\n",
    "workflow_tool = WorkflowTool(\n",
    "    enabled=True,\n",
    "    workflow={\"id\": simple_workflow.id, \"name\":\"Generate a joke\", \"description\": \"Use this tool to generate a joke\"},\n",
    "    name=\"Simple Workflow\",\n",
    "    description=\"Just runs\"\n",
    ")\n",
    "\n",
    "\n",
    "# Define agent settings\n",
    "agent_settings = ConversationSettings(\n",
    "    model_selection=[\"gpt-4o-mini\"],\n",
    "    temperature=0.7,\n",
    "    max_tokens=150,\n",
    "    tools=[workflow_tool],\n",
    "    extra_instructions=\"Please be helpful and concise.\"\n",
    ")\n",
    "\n",
    "# Create a new agent\n",
    "agent = client.agents.create(name=\"Example Agent\", settings=agent_settings)\n",
    "print(f\"Created Agent with ID: {agent.id}, and name: {agent.name}\")"
   ]
  },
  {
   "cell_type": "markdown",
   "metadata": {},
   "source": [
    "### List all agents"
   ]
  },
  {
   "cell_type": "code",
   "execution_count": null,
   "metadata": {},
   "outputs": [],
   "source": [
    "agents = client.agents.list()\n",
    "for agent in agents:\n",
    "    print(f\"Agent ID: {agent.id}, Name: {agent.name}\")\n",
    "\n",
    "# Get a specific agent\n",
    "# agent = client.agents.get(agent_id=\"your_agent_id\")"
   ]
  },
  {
   "cell_type": "markdown",
   "metadata": {},
   "source": [
    "### Updating and Deleting an Agent"
   ]
  },
  {
   "cell_type": "code",
   "execution_count": null,
   "metadata": {},
   "outputs": [],
   "source": [
    "# Update an agent\n",
    "updated_agent = client.agents.update(\n",
    "    agent_id=agent.id,\n",
    "    name=\"Updated Agent Name\",\n",
    "    settings=agent_settings\n",
    ")\n",
    "print(updated_agent.name)"
   ]
  },
  {
   "cell_type": "code",
   "execution_count": null,
   "metadata": {},
   "outputs": [],
   "source": [
    "# Delete an agent\n",
    "#client.agents.delete(agent_id=\"agent_id\")"
   ]
  },
  {
   "cell_type": "markdown",
   "metadata": {},
   "source": [
    "### Starting a conversation with an Agent"
   ]
  },
  {
   "cell_type": "code",
   "execution_count": null,
   "metadata": {},
   "outputs": [],
   "source": [
    "# Get the agent you want to chat with\n",
    "agent = client.agents.get(agent_id=agent.id)\n",
    "\n",
    "# Create a conversation with this agent\n",
    "conversation = client.conversations.create(\n",
    "    name=\"Chat with Agent\",\n",
    "    agent_id=agent.id\n",
    ")"
   ]
  },
  {
   "cell_type": "code",
   "execution_count": null,
   "metadata": {},
   "outputs": [],
   "source": [
    "\n",
    "\n",
    "# Now you can send messages to the conversation\n",
    "message = MessageRequest(content=\"Hello, what model are you using?\")\n",
    "response = conversation.add_message(message)\n",
    "print(f\"Agent Response: {response.message_parts}\")"
   ]
  },
  {
   "cell_type": "code",
   "execution_count": null,
   "metadata": {},
   "outputs": [],
   "source": [
    "# Let's ask the agent to run the simple workflow\n",
    "message = MessageRequest(content=\"Hello, can you run Simple Workflow and tell it to generate a poem?\")\n",
    "response = conversation.add_message(message)\n",
    "print(f\"Agent Response: {response.message_parts}\")"
   ]
  },
  {
   "cell_type": "markdown",
   "metadata": {},
   "source": [
    "You can also create a conversation with the agent asynchronously"
   ]
  },
  {
   "cell_type": "code",
   "execution_count": null,
   "metadata": {},
   "outputs": [],
   "source": [
    "async def create_agent_conversation():\n",
    "    agent = await client.agents.aget(agent_id=\"agent_id_here\")\n",
    "    conversation = await client.conversations.acreate(\n",
    "        name=\"Async Agent Chat\",\n",
    "        agent_id=agent.id\n",
    "    )\n",
    "    return conversation"
   ]
  },
  {
   "cell_type": "markdown",
   "metadata": {},
   "source": [
    "# Advanced Usage\n",
    "\n",
    "The SDK supports asynchronous operations.\n",
    "Here's an example:"
   ]
  },
  {
   "cell_type": "code",
   "execution_count": null,
   "metadata": {},
   "outputs": [],
   "source": [
    "import asyncio\n",
    "from noxus_sdk.client import Client\n",
    "\n",
    "async def main():\n",
    "    # List workflows asynchronously\n",
    "    workflows = await client.workflows.alist()\n",
    "    for workflow in workflows:\n",
    "        print(workflow.name)\n",
    "\n",
    "    # Create knowledge base asynchronously\n",
    "    kb = await client.knowledge_bases.acreate(\n",
    "        name=\"Async KB\",\n",
    "        description=\"Created asynchronously\",\n",
    "        document_types=[\"pdf\"],\n",
    "        settings_=settings # getting the settings from the KB creation above\n",
    "    )\n",
    "\n",
    "    # Run a workflow and wait for completion asynchronously\n",
    "    workflow = await client.workflows.aget(simple_workflow.id)\n",
    "    run = await workflow.arun(body={})\n",
    "    result = await run.a_wait(interval=2)\n",
    "    print(result)\n",
    "\n",
    "await main()"
   ]
  },
  {
   "cell_type": "markdown",
   "metadata": {},
   "source": [
    "# Platform Information Methods\n",
    "\n",
    "The SDK provides methods to retrieve information about the Noxus platform. For example:"
   ]
  },
  {
   "cell_type": "code",
   "execution_count": null,
   "metadata": {},
   "outputs": [],
   "source": [
    "# Get available workflow nodes\n",
    "nodes = client.get_nodes()  # Synchronous\n",
    "nodes = await client.aget_nodes()  # Asynchronous\n",
    "\n",
    "# Get available language models\n",
    "models = client.get_models()  # Synchronous\n",
    "models = await client.aget_models()  # Asynchronous\n",
    "\n",
    "# Get chat model presets\n",
    "presets = client.get_chat_presets()  # Synchronous\n",
    "presets = await client.aget_chat_presets()  # Asynchronous"
   ]
  },
  {
   "cell_type": "markdown",
   "metadata": {},
   "source": [
    "Here is an example that uses the `get_models` method to configure a conversation"
   ]
  },
  {
   "cell_type": "code",
   "execution_count": null,
   "metadata": {},
   "outputs": [],
   "source": [
    "# Get available models and use them in conversation settings\n",
    "models = client.get_models()\n",
    "model_names = [model[\"name\"] for model in models]\n",
    "\n",
    "settings = ConversationSettings(\n",
    "    model_selection=[model_names[0]],  # Use the first available model\n",
    "    temperature=0.7,\n",
    "    max_tokens=150,\n",
    "    tools=[],\n",
    "    extra_instructions=\"Please be concise.\"\n",
    ")\n",
    "\n",
    "# Create a conversation with the retrieved model\n",
    "conversation = client.conversations.create(\n",
    "    name=\"Model-specific Conversation\",\n",
    "    settings=settings\n",
    ")"
   ]
  }
 ],
 "metadata": {
  "kernelspec": {
   "display_name": "Python 3 (ipykernel)",
   "language": "python",
   "name": "python3"
  },
  "language_info": {
   "codemirror_mode": {
    "name": "ipython",
    "version": 3
   },
   "file_extension": ".py",
   "mimetype": "text/x-python",
   "name": "python",
   "nbconvert_exporter": "python",
   "pygments_lexer": "ipython3",
   "version": "3.12.7"
  }
 },
 "nbformat": 4,
 "nbformat_minor": 4
}
